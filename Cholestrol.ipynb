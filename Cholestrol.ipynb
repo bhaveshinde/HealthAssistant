{
 "cells": [
  {
   "cell_type": "markdown",
   "id": "caeac7b6",
   "metadata": {},
   "source": [
    "# importing libraries"
   ]
  },
  {
   "cell_type": "code",
   "execution_count": 1,
   "id": "0bf3f917",
   "metadata": {},
   "outputs": [
    {
     "name": "stderr",
     "output_type": "stream",
     "text": [
      "C:\\Users\\Bhavesh\\anaconda3\\lib\\site-packages\\scipy\\__init__.py:138: UserWarning: A NumPy version >=1.16.5 and <1.23.0 is required for this version of SciPy (detected version 1.24.3)\n",
      "  warnings.warn(f\"A NumPy version >={np_minversion} and <{np_maxversion} is required for this version of \"\n"
     ]
    }
   ],
   "source": [
    "import numpy as np\n",
    "import pandas as pd\n",
    "from sklearn.linear_model import LogisticRegression\n",
    "import joblib\n",
    "import matplotlib.pyplot as plt"
   ]
  },
  {
   "cell_type": "markdown",
   "id": "a8d9684c",
   "metadata": {},
   "source": [
    "# import the data file (.csv)"
   ]
  },
  {
   "cell_type": "code",
   "execution_count": 2,
   "id": "c576dd00",
   "metadata": {},
   "outputs": [],
   "source": [
    "data = pd.read_csv('Cholestrol.csv')"
   ]
  },
  {
   "cell_type": "code",
   "execution_count": 3,
   "id": "65b1317e",
   "metadata": {},
   "outputs": [
    {
     "data": {
      "text/html": [
       "<div>\n",
       "<style scoped>\n",
       "    .dataframe tbody tr th:only-of-type {\n",
       "        vertical-align: middle;\n",
       "    }\n",
       "\n",
       "    .dataframe tbody tr th {\n",
       "        vertical-align: top;\n",
       "    }\n",
       "\n",
       "    .dataframe thead th {\n",
       "        text-align: right;\n",
       "    }\n",
       "</style>\n",
       "<table border=\"1\" class=\"dataframe\">\n",
       "  <thead>\n",
       "    <tr style=\"text-align: right;\">\n",
       "      <th></th>\n",
       "      <th>Pateint</th>\n",
       "      <th>Age</th>\n",
       "      <th>HDL</th>\n",
       "      <th>LDL</th>\n",
       "      <th>TG</th>\n",
       "      <th>Total cholestrol</th>\n",
       "      <th>Output</th>\n",
       "      <th>Unnamed: 7</th>\n",
       "      <th>Unnamed: 8</th>\n",
       "      <th>Unnamed: 9</th>\n",
       "      <th>Unnamed: 10</th>\n",
       "      <th>Unnamed: 11</th>\n",
       "    </tr>\n",
       "  </thead>\n",
       "  <tbody>\n",
       "    <tr>\n",
       "      <th>0</th>\n",
       "      <td>1</td>\n",
       "      <td>36</td>\n",
       "      <td>30</td>\n",
       "      <td>136</td>\n",
       "      <td>183</td>\n",
       "      <td>234</td>\n",
       "      <td>0</td>\n",
       "      <td>NaN</td>\n",
       "      <td>NaN</td>\n",
       "      <td>NaN</td>\n",
       "      <td>NaN</td>\n",
       "      <td>NaN</td>\n",
       "    </tr>\n",
       "    <tr>\n",
       "      <th>1</th>\n",
       "      <td>2</td>\n",
       "      <td>45</td>\n",
       "      <td>31</td>\n",
       "      <td>143</td>\n",
       "      <td>191</td>\n",
       "      <td>243</td>\n",
       "      <td>1</td>\n",
       "      <td>NaN</td>\n",
       "      <td>NaN</td>\n",
       "      <td>NaN</td>\n",
       "      <td>NaN</td>\n",
       "      <td>NaN</td>\n",
       "    </tr>\n",
       "    <tr>\n",
       "      <th>2</th>\n",
       "      <td>3</td>\n",
       "      <td>49</td>\n",
       "      <td>24</td>\n",
       "      <td>157</td>\n",
       "      <td>187</td>\n",
       "      <td>233</td>\n",
       "      <td>2</td>\n",
       "      <td>NaN</td>\n",
       "      <td>NaN</td>\n",
       "      <td>NaN</td>\n",
       "      <td>NaN</td>\n",
       "      <td>NaN</td>\n",
       "    </tr>\n",
       "    <tr>\n",
       "      <th>3</th>\n",
       "      <td>4</td>\n",
       "      <td>55</td>\n",
       "      <td>37</td>\n",
       "      <td>140</td>\n",
       "      <td>178</td>\n",
       "      <td>236</td>\n",
       "      <td>0</td>\n",
       "      <td>NaN</td>\n",
       "      <td>NaN</td>\n",
       "      <td>NaN</td>\n",
       "      <td>NaN</td>\n",
       "      <td>NaN</td>\n",
       "    </tr>\n",
       "    <tr>\n",
       "      <th>4</th>\n",
       "      <td>5</td>\n",
       "      <td>44</td>\n",
       "      <td>26</td>\n",
       "      <td>148</td>\n",
       "      <td>151</td>\n",
       "      <td>236</td>\n",
       "      <td>1</td>\n",
       "      <td>NaN</td>\n",
       "      <td>NaN</td>\n",
       "      <td>NaN</td>\n",
       "      <td>NaN</td>\n",
       "      <td>NaN</td>\n",
       "    </tr>\n",
       "  </tbody>\n",
       "</table>\n",
       "</div>"
      ],
      "text/plain": [
       "   Pateint  Age  HDL  LDL   TG  Total cholestrol  Output  Unnamed: 7  \\\n",
       "0        1   36   30  136  183               234       0         NaN   \n",
       "1        2   45   31  143  191               243       1         NaN   \n",
       "2        3   49   24  157  187               233       2         NaN   \n",
       "3        4   55   37  140  178               236       0         NaN   \n",
       "4        5   44   26  148  151               236       1         NaN   \n",
       "\n",
       "   Unnamed: 8  Unnamed: 9 Unnamed: 10 Unnamed: 11  \n",
       "0         NaN         NaN         NaN         NaN  \n",
       "1         NaN         NaN         NaN         NaN  \n",
       "2         NaN         NaN         NaN         NaN  \n",
       "3         NaN         NaN         NaN         NaN  \n",
       "4         NaN         NaN         NaN         NaN  "
      ]
     },
     "execution_count": 3,
     "metadata": {},
     "output_type": "execute_result"
    }
   ],
   "source": [
    "data.head()"
   ]
  },
  {
   "cell_type": "markdown",
   "id": "740a7eb5",
   "metadata": {},
   "source": [
    "# Concatinating the dataset and converting then into array"
   ]
  },
  {
   "cell_type": "code",
   "execution_count": 4,
   "id": "e2dbd999",
   "metadata": {},
   "outputs": [],
   "source": [
    "x = data.iloc[:,1:6]\n",
    "y = data[['Output']]"
   ]
  },
  {
   "cell_type": "code",
   "execution_count": 5,
   "id": "97f7ba41",
   "metadata": {},
   "outputs": [
    {
     "data": {
      "text/html": [
       "<div>\n",
       "<style scoped>\n",
       "    .dataframe tbody tr th:only-of-type {\n",
       "        vertical-align: middle;\n",
       "    }\n",
       "\n",
       "    .dataframe tbody tr th {\n",
       "        vertical-align: top;\n",
       "    }\n",
       "\n",
       "    .dataframe thead th {\n",
       "        text-align: right;\n",
       "    }\n",
       "</style>\n",
       "<table border=\"1\" class=\"dataframe\">\n",
       "  <thead>\n",
       "    <tr style=\"text-align: right;\">\n",
       "      <th></th>\n",
       "      <th>Age</th>\n",
       "      <th>HDL</th>\n",
       "      <th>LDL</th>\n",
       "      <th>TG</th>\n",
       "      <th>Total cholestrol</th>\n",
       "    </tr>\n",
       "  </thead>\n",
       "  <tbody>\n",
       "    <tr>\n",
       "      <th>0</th>\n",
       "      <td>36</td>\n",
       "      <td>30</td>\n",
       "      <td>136</td>\n",
       "      <td>183</td>\n",
       "      <td>234</td>\n",
       "    </tr>\n",
       "    <tr>\n",
       "      <th>1</th>\n",
       "      <td>45</td>\n",
       "      <td>31</td>\n",
       "      <td>143</td>\n",
       "      <td>191</td>\n",
       "      <td>243</td>\n",
       "    </tr>\n",
       "    <tr>\n",
       "      <th>2</th>\n",
       "      <td>49</td>\n",
       "      <td>24</td>\n",
       "      <td>157</td>\n",
       "      <td>187</td>\n",
       "      <td>233</td>\n",
       "    </tr>\n",
       "    <tr>\n",
       "      <th>3</th>\n",
       "      <td>55</td>\n",
       "      <td>37</td>\n",
       "      <td>140</td>\n",
       "      <td>178</td>\n",
       "      <td>236</td>\n",
       "    </tr>\n",
       "    <tr>\n",
       "      <th>4</th>\n",
       "      <td>44</td>\n",
       "      <td>26</td>\n",
       "      <td>148</td>\n",
       "      <td>151</td>\n",
       "      <td>236</td>\n",
       "    </tr>\n",
       "  </tbody>\n",
       "</table>\n",
       "</div>"
      ],
      "text/plain": [
       "   Age  HDL  LDL   TG  Total cholestrol\n",
       "0   36   30  136  183               234\n",
       "1   45   31  143  191               243\n",
       "2   49   24  157  187               233\n",
       "3   55   37  140  178               236\n",
       "4   44   26  148  151               236"
      ]
     },
     "execution_count": 5,
     "metadata": {},
     "output_type": "execute_result"
    }
   ],
   "source": [
    "x.head()"
   ]
  },
  {
   "cell_type": "code",
   "execution_count": 6,
   "id": "a85c312d",
   "metadata": {},
   "outputs": [],
   "source": [
    "x = np.array(x)\n",
    "y = np.array(y)"
   ]
  },
  {
   "cell_type": "markdown",
   "id": "74f598db",
   "metadata": {},
   "source": [
    "# Fitting the data into Logistic Regression model"
   ]
  },
  {
   "cell_type": "code",
   "execution_count": 7,
   "id": "d60f0bdd",
   "metadata": {},
   "outputs": [
    {
     "name": "stderr",
     "output_type": "stream",
     "text": [
      "C:\\Users\\Bhavesh\\anaconda3\\lib\\site-packages\\sklearn\\utils\\validation.py:63: DataConversionWarning: A column-vector y was passed when a 1d array was expected. Please change the shape of y to (n_samples, ), for example using ravel().\n",
      "  return f(*args, **kwargs)\n",
      "C:\\Users\\Bhavesh\\anaconda3\\lib\\site-packages\\sklearn\\linear_model\\_logistic.py:763: ConvergenceWarning: lbfgs failed to converge (status=1):\n",
      "STOP: TOTAL NO. of ITERATIONS REACHED LIMIT.\n",
      "\n",
      "Increase the number of iterations (max_iter) or scale the data as shown in:\n",
      "    https://scikit-learn.org/stable/modules/preprocessing.html\n",
      "Please also refer to the documentation for alternative solver options:\n",
      "    https://scikit-learn.org/stable/modules/linear_model.html#logistic-regression\n",
      "  n_iter_i = _check_optimize_result(\n"
     ]
    },
    {
     "data": {
      "text/plain": [
       "LogisticRegression()"
      ]
     },
     "execution_count": 7,
     "metadata": {},
     "output_type": "execute_result"
    }
   ],
   "source": [
    "logreg = LogisticRegression()\n",
    "logreg.fit(x, y)"
   ]
  },
  {
   "cell_type": "markdown",
   "id": "4faab72c",
   "metadata": {},
   "source": [
    "# Dumping the logreg model into .pkl file"
   ]
  },
  {
   "cell_type": "code",
   "execution_count": 8,
   "id": "16cfc37e",
   "metadata": {},
   "outputs": [
    {
     "data": {
      "text/plain": [
       "['model_Cholestrol.pkl']"
      ]
     },
     "execution_count": 8,
     "metadata": {},
     "output_type": "execute_result"
    }
   ],
   "source": [
    "joblib.dump(logreg,\"model_Cholestrol.pkl\")"
   ]
  },
  {
   "cell_type": "code",
   "execution_count": 9,
   "id": "3a0a2f59",
   "metadata": {},
   "outputs": [],
   "source": [
    "model = joblib.load(\"model_Cholestrol.pkl\")"
   ]
  },
  {
   "cell_type": "code",
   "execution_count": 10,
   "id": "5e897d7f",
   "metadata": {},
   "outputs": [
    {
     "name": "stdin",
     "output_type": "stream",
     "text": [
      "Patient's age :  34\n",
      "HDL :  536\n",
      "LDL :  346\n",
      "TG :  456\n",
      "Total Cholestrol :  453\n"
     ]
    }
   ],
   "source": [
    "age = float(input(\"Patient's age : \"))\n",
    "HDL = float(input(\"HDL : \"))\n",
    "LDL = float(input(\"LDL : \"))\n",
    "TG = float(input(\"TG : \"))\n",
    "Total_cholestrol = float(input(\"Total Cholestrol : \"))"
   ]
  },
  {
   "cell_type": "code",
   "execution_count": 12,
   "id": "7776c2a8",
   "metadata": {},
   "outputs": [],
   "source": [
    "input_data = {\n",
    "    'age' : [age],\n",
    "    'HDL' : [HDL],\n",
    "    'LDL' : [LDL],\n",
    "    'TG' : [TG],\n",
    "    'Total_cholestrol' : [Total_cholestrol]\n",
    "}"
   ]
  },
  {
   "cell_type": "code",
   "execution_count": 13,
   "id": "c4057a46",
   "metadata": {},
   "outputs": [],
   "source": [
    "input_data_df = pd.DataFrame(input_data)"
   ]
  },
  {
   "cell_type": "code",
   "execution_count": 14,
   "id": "dd2caee8",
   "metadata": {},
   "outputs": [
    {
     "name": "stdout",
     "output_type": "stream",
     "text": [
      "[1]\n"
     ]
    }
   ],
   "source": [
    "prediction = model.predict(input_data_df)\n",
    "print(prediction)"
   ]
  },
  {
   "cell_type": "code",
   "execution_count": 15,
   "id": "f72cd287",
   "metadata": {},
   "outputs": [
    {
     "name": "stdout",
     "output_type": "stream",
     "text": [
      "Prediction: Cholestrol level NORMAL\n"
     ]
    }
   ],
   "source": [
    "if prediction[0] == 0:\n",
    "    print(\"Prediction: Cholestrol level LOW\")\n",
    "elif prediction[0] == 1:\n",
    "    print(\"Prediction: Cholestrol level NORMAL\")\n",
    "elif prediction[0] == 2:\n",
    "    print(\"Prediction: B level HIGH\")\n",
    "    "
   ]
  },
  {
   "cell_type": "code",
   "execution_count": null,
   "id": "050853b9",
   "metadata": {},
   "outputs": [],
   "source": []
  }
 ],
 "metadata": {
  "kernelspec": {
   "display_name": "Python 3",
   "language": "python",
   "name": "python3"
  },
  "language_info": {
   "codemirror_mode": {
    "name": "ipython",
    "version": 3
   },
   "file_extension": ".py",
   "mimetype": "text/x-python",
   "name": "python",
   "nbconvert_exporter": "python",
   "pygments_lexer": "ipython3",
   "version": "3.8.8"
  }
 },
 "nbformat": 4,
 "nbformat_minor": 5
}
