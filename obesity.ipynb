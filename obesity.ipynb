{
 "cells": [
  {
   "cell_type": "markdown",
   "id": "ab1b479d",
   "metadata": {},
   "source": [
    "# importing libraries"
   ]
  },
  {
   "cell_type": "code",
   "execution_count": 1,
   "id": "918c4c14",
   "metadata": {},
   "outputs": [
    {
     "name": "stderr",
     "output_type": "stream",
     "text": [
      "C:\\Users\\Bhavesh\\anaconda3\\lib\\site-packages\\scipy\\__init__.py:138: UserWarning: A NumPy version >=1.16.5 and <1.23.0 is required for this version of SciPy (detected version 1.24.3)\n",
      "  warnings.warn(f\"A NumPy version >={np_minversion} and <{np_maxversion} is required for this version of \"\n"
     ]
    }
   ],
   "source": [
    "import numpy as np\n",
    "import pandas as pd\n",
    "from sklearn.linear_model import LogisticRegression\n",
    "import joblib"
   ]
  },
  {
   "cell_type": "markdown",
   "id": "677b50c9",
   "metadata": {},
   "source": [
    "# importing the data file (.csv)"
   ]
  },
  {
   "cell_type": "code",
   "execution_count": 2,
   "id": "3bd1dc0c",
   "metadata": {},
   "outputs": [],
   "source": [
    "data = pd.read_csv('Obesity.csv')"
   ]
  },
  {
   "cell_type": "code",
   "execution_count": 3,
   "id": "851f1c76",
   "metadata": {},
   "outputs": [
    {
     "data": {
      "text/html": [
       "<div>\n",
       "<style scoped>\n",
       "    .dataframe tbody tr th:only-of-type {\n",
       "        vertical-align: middle;\n",
       "    }\n",
       "\n",
       "    .dataframe tbody tr th {\n",
       "        vertical-align: top;\n",
       "    }\n",
       "\n",
       "    .dataframe thead th {\n",
       "        text-align: right;\n",
       "    }\n",
       "</style>\n",
       "<table border=\"1\" class=\"dataframe\">\n",
       "  <thead>\n",
       "    <tr style=\"text-align: right;\">\n",
       "      <th></th>\n",
       "      <th>Pateint</th>\n",
       "      <th>Age</th>\n",
       "      <th>Gender</th>\n",
       "      <th>Waist_Circumference</th>\n",
       "      <th>Skin_fold</th>\n",
       "      <th>BMI</th>\n",
       "      <th>Output</th>\n",
       "    </tr>\n",
       "  </thead>\n",
       "  <tbody>\n",
       "    <tr>\n",
       "      <th>0</th>\n",
       "      <td>1</td>\n",
       "      <td>42</td>\n",
       "      <td>M</td>\n",
       "      <td>46</td>\n",
       "      <td>5</td>\n",
       "      <td>29</td>\n",
       "      <td>1</td>\n",
       "    </tr>\n",
       "    <tr>\n",
       "      <th>1</th>\n",
       "      <td>2</td>\n",
       "      <td>34</td>\n",
       "      <td>M</td>\n",
       "      <td>31</td>\n",
       "      <td>5</td>\n",
       "      <td>29</td>\n",
       "      <td>0</td>\n",
       "    </tr>\n",
       "    <tr>\n",
       "      <th>2</th>\n",
       "      <td>3</td>\n",
       "      <td>77</td>\n",
       "      <td>M</td>\n",
       "      <td>45</td>\n",
       "      <td>6</td>\n",
       "      <td>26</td>\n",
       "      <td>0</td>\n",
       "    </tr>\n",
       "    <tr>\n",
       "      <th>3</th>\n",
       "      <td>4</td>\n",
       "      <td>40</td>\n",
       "      <td>M</td>\n",
       "      <td>40</td>\n",
       "      <td>6</td>\n",
       "      <td>26</td>\n",
       "      <td>1</td>\n",
       "    </tr>\n",
       "    <tr>\n",
       "      <th>4</th>\n",
       "      <td>5</td>\n",
       "      <td>51</td>\n",
       "      <td>M</td>\n",
       "      <td>43</td>\n",
       "      <td>2</td>\n",
       "      <td>30</td>\n",
       "      <td>0</td>\n",
       "    </tr>\n",
       "  </tbody>\n",
       "</table>\n",
       "</div>"
      ],
      "text/plain": [
       "   Pateint  Age Gender  Waist_Circumference  Skin_fold  BMI  Output\n",
       "0        1   42      M                   46          5   29       1\n",
       "1        2   34      M                   31          5   29       0\n",
       "2        3   77      M                   45          6   26       0\n",
       "3        4   40      M                   40          6   26       1\n",
       "4        5   51      M                   43          2   30       0"
      ]
     },
     "execution_count": 3,
     "metadata": {},
     "output_type": "execute_result"
    }
   ],
   "source": [
    "data.head()"
   ]
  },
  {
   "cell_type": "code",
   "execution_count": 4,
   "id": "cac2b29b",
   "metadata": {},
   "outputs": [
    {
     "data": {
      "text/plain": [
       "0      M\n",
       "1      M\n",
       "2      M\n",
       "3      M\n",
       "4      M\n",
       "      ..\n",
       "495    F\n",
       "496    F\n",
       "497    F\n",
       "498    F\n",
       "499    F\n",
       "Name: Gender, Length: 500, dtype: object"
      ]
     },
     "execution_count": 4,
     "metadata": {},
     "output_type": "execute_result"
    }
   ],
   "source": [
    "data['Gender']"
   ]
  },
  {
   "cell_type": "markdown",
   "id": "4e3c9863",
   "metadata": {},
   "source": [
    "# Converting the genders (M and F) into binary 0 for female and 1 for male"
   ]
  },
  {
   "cell_type": "code",
   "execution_count": 5,
   "id": "17dfc42d",
   "metadata": {},
   "outputs": [
    {
     "name": "stderr",
     "output_type": "stream",
     "text": [
      "<ipython-input-5-bc8d030dd76f>:3: SettingWithCopyWarning: \n",
      "A value is trying to be set on a copy of a slice from a DataFrame\n",
      "\n",
      "See the caveats in the documentation: https://pandas.pydata.org/pandas-docs/stable/user_guide/indexing.html#returning-a-view-versus-a-copy\n",
      "  data['Gender'][i] = 1\n",
      "<ipython-input-5-bc8d030dd76f>:5: SettingWithCopyWarning: \n",
      "A value is trying to be set on a copy of a slice from a DataFrame\n",
      "\n",
      "See the caveats in the documentation: https://pandas.pydata.org/pandas-docs/stable/user_guide/indexing.html#returning-a-view-versus-a-copy\n",
      "  data['Gender'][i] = 0\n"
     ]
    }
   ],
   "source": [
    "for i in range(len(data['Gender'])):\n",
    "    if data['Gender'][i] == \"M\":\n",
    "        data['Gender'][i] = 1\n",
    "    elif data['Gender'][i] == \"F\":\n",
    "        data['Gender'][i] = 0\n",
    "    else:\n",
    "        print(\"New value:\", data['Gender'][i])"
   ]
  },
  {
   "cell_type": "markdown",
   "id": "753b91c3",
   "metadata": {},
   "source": [
    "# Concatinating the dataset and converting then into array"
   ]
  },
  {
   "cell_type": "code",
   "execution_count": 6,
   "id": "a16f5189",
   "metadata": {},
   "outputs": [],
   "source": [
    "x = data.iloc[:,1:6]\n",
    "y = data[['Output']]"
   ]
  },
  {
   "cell_type": "code",
   "execution_count": 7,
   "id": "d6c5cdea",
   "metadata": {},
   "outputs": [],
   "source": [
    "x = np.array(x)\n",
    "y = np.array(y)"
   ]
  },
  {
   "cell_type": "markdown",
   "id": "00e718c6",
   "metadata": {},
   "source": [
    "# Fitting the data into Logistic Regression model"
   ]
  },
  {
   "cell_type": "code",
   "execution_count": 8,
   "id": "11099efc",
   "metadata": {},
   "outputs": [
    {
     "name": "stderr",
     "output_type": "stream",
     "text": [
      "C:\\Users\\Bhavesh\\anaconda3\\lib\\site-packages\\sklearn\\utils\\validation.py:63: DataConversionWarning: A column-vector y was passed when a 1d array was expected. Please change the shape of y to (n_samples, ), for example using ravel().\n",
      "  return f(*args, **kwargs)\n"
     ]
    },
    {
     "data": {
      "text/plain": [
       "LogisticRegression()"
      ]
     },
     "execution_count": 8,
     "metadata": {},
     "output_type": "execute_result"
    }
   ],
   "source": [
    "logreg = LogisticRegression()\n",
    "logreg.fit(x, y)"
   ]
  },
  {
   "cell_type": "markdown",
   "id": "27c30184",
   "metadata": {},
   "source": [
    "# Dumping the logreg model into .pkl file"
   ]
  },
  {
   "cell_type": "code",
   "execution_count": 9,
   "id": "b0d040d2",
   "metadata": {},
   "outputs": [
    {
     "data": {
      "text/plain": [
       "['model_Obesity.pkl']"
      ]
     },
     "execution_count": 9,
     "metadata": {},
     "output_type": "execute_result"
    }
   ],
   "source": [
    "joblib.dump(logreg,\"model_Obesity.pkl\")"
   ]
  },
  {
   "cell_type": "code",
   "execution_count": 10,
   "id": "c58bd207",
   "metadata": {},
   "outputs": [],
   "source": [
    "model = joblib.load(\"model_Obesity.pkl\")"
   ]
  },
  {
   "cell_type": "markdown",
   "id": "1d68ec63",
   "metadata": {},
   "source": [
    "# Taking user input and predicting the model"
   ]
  },
  {
   "cell_type": "code",
   "execution_count": 11,
   "id": "75b3092f",
   "metadata": {},
   "outputs": [
    {
     "name": "stdin",
     "output_type": "stream",
     "text": [
      "Patient's age :  45\n",
      "Gender :  male\n",
      "Waist circumference :  34\n",
      "Skin fold :  678\n",
      "BMI :  546\n"
     ]
    }
   ],
   "source": [
    "age = float(input(\"Patient's age : \"))\n",
    "Gender = (input(\"Gender : \"))\n",
    "waist_circum = float(input(\"Waist circumference : \"))\n",
    "skin_fold = float(input(\"Skin fold : \"))\n",
    "BMI = float(input(\"BMI : \"))"
   ]
  },
  {
   "cell_type": "code",
   "execution_count": 16,
   "id": "d645e7b7",
   "metadata": {},
   "outputs": [],
   "source": [
    "if Gender ==  'M' or 'm' or 'Male' or 'male':\n",
    "    Gender = 1\n",
    "else:\n",
    "    Gender = 0"
   ]
  },
  {
   "cell_type": "code",
   "execution_count": 17,
   "id": "501fba13",
   "metadata": {},
   "outputs": [],
   "source": [
    "input_data = {\n",
    "    'age' : [age],\n",
    "    'Gender' : [Gender],\n",
    "    'waist_circum' : [waist_circum],\n",
    "    'skin_fold' : [skin_fold],\n",
    "    'BMI' : [BMI]\n",
    "}"
   ]
  },
  {
   "cell_type": "code",
   "execution_count": 18,
   "id": "90b03929",
   "metadata": {},
   "outputs": [],
   "source": [
    "input_data_df = pd.DataFrame(input_data)"
   ]
  },
  {
   "cell_type": "code",
   "execution_count": 19,
   "id": "363618de",
   "metadata": {},
   "outputs": [
    {
     "name": "stdout",
     "output_type": "stream",
     "text": [
      "Prediction: Not Obes\n"
     ]
    }
   ],
   "source": [
    "prediction = model.predict(input_data_df)\n",
    "if prediction[0] == 1:\n",
    "    print(\"Prediction: Obese\")\n",
    "else:\n",
    "    print(\"Prediction: Not Obes\")"
   ]
  },
  {
   "cell_type": "code",
   "execution_count": null,
   "id": "b55b010f",
   "metadata": {},
   "outputs": [],
   "source": []
  },
  {
   "cell_type": "code",
   "execution_count": null,
   "id": "6ede24e9-2490-408d-8925-5e75a08e0295",
   "metadata": {},
   "outputs": [],
   "source": []
  }
 ],
 "metadata": {
  "kernelspec": {
   "display_name": "Python 3",
   "language": "python",
   "name": "python3"
  },
  "language_info": {
   "codemirror_mode": {
    "name": "ipython",
    "version": 3
   },
   "file_extension": ".py",
   "mimetype": "text/x-python",
   "name": "python",
   "nbconvert_exporter": "python",
   "pygments_lexer": "ipython3",
   "version": "3.8.8"
  }
 },
 "nbformat": 4,
 "nbformat_minor": 5
}
